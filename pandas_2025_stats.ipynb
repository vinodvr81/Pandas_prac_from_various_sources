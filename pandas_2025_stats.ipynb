{
 "cells": [
  {
   "cell_type": "code",
   "execution_count": 2,
   "id": "4fb83bcc-3b0d-414c-a65f-5c6491a54fd8",
   "metadata": {},
   "outputs": [],
   "source": [
    "import pandas as pd\n",
    "\n",
    "df = pd.read_csv('data.csv')\n",
    "\n",
    "x = df[\"Calories\"].mean()\n",
    "\n",
    "df.fillna({\"Calories\": x}, inplace=True)"
   ]
  },
  {
   "cell_type": "code",
   "execution_count": 3,
   "id": "93ca88f4-c4ed-4ad3-be8d-a339b6bac347",
   "metadata": {},
   "outputs": [
    {
     "name": "stdout",
     "output_type": "stream",
     "text": [
      "0     409.10\n",
      "1     479.00\n",
      "2     340.00\n",
      "3     282.40\n",
      "4     406.00\n",
      "5     300.00\n",
      "6     374.00\n",
      "7     253.30\n",
      "8     195.10\n",
      "9     269.00\n",
      "10    329.30\n",
      "11    250.70\n",
      "12    250.70\n",
      "13    345.30\n",
      "14    379.30\n",
      "15    275.00\n",
      "16    215.20\n",
      "17    300.00\n",
      "18    304.68\n",
      "19    323.00\n",
      "20    243.00\n",
      "21    364.20\n",
      "22    282.00\n",
      "23    300.00\n",
      "24    246.00\n",
      "25    334.50\n",
      "26    250.00\n",
      "27    241.00\n",
      "28    304.68\n",
      "29    280.00\n",
      "30    380.30\n",
      "31    243.00\n",
      "Name: Calories, dtype: float64\n"
     ]
    }
   ],
   "source": [
    "print(df[\"Calories\"])"
   ]
  },
  {
   "cell_type": "code",
   "execution_count": 5,
   "id": "94662311-7436-47b6-a801-150f0eefb84c",
   "metadata": {},
   "outputs": [
    {
     "name": "stdout",
     "output_type": "stream",
     "text": [
      "318.6\n",
      "     Duration  Pulse  Maxpulse  Calories\n",
      "0          60    110       130     409.1\n",
      "1          60    117       145     479.0\n",
      "2          60    103       135     340.0\n",
      "3          45    109       175     282.4\n",
      "4          45    117       148     406.0\n",
      "..        ...    ...       ...       ...\n",
      "164        60    105       140     290.8\n",
      "165        60    110       145     300.4\n",
      "166        60    115       145     310.2\n",
      "167        75    120       150     320.4\n",
      "168        75    125       150     330.4\n",
      "\n",
      "[169 rows x 4 columns]\n"
     ]
    }
   ],
   "source": [
    "df = pd.read_json('data.json')\n",
    "\n",
    "x = df[\"Calories\"].median()\n",
    "print(x)\n",
    "df.fillna({\"Calories\": x}, inplace=True)\n",
    "print(df)"
   ]
  },
  {
   "cell_type": "code",
   "execution_count": 6,
   "id": "4f7b92ff-7170-4250-bdad-53424de94075",
   "metadata": {},
   "outputs": [
    {
     "name": "stdout",
     "output_type": "stream",
     "text": [
      "0      409.1\n",
      "1      479.0\n",
      "2      340.0\n",
      "3      282.4\n",
      "4      406.0\n",
      "       ...  \n",
      "164    290.8\n",
      "165    300.4\n",
      "166    310.2\n",
      "167    320.4\n",
      "168    330.4\n",
      "Name: Calories, Length: 169, dtype: float64\n"
     ]
    }
   ],
   "source": [
    "print(df[\"Calories\"])"
   ]
  },
  {
   "cell_type": "code",
   "execution_count": 7,
   "id": "bc73cbe4-b913-4440-a2a1-7d4a3efc29d0",
   "metadata": {},
   "outputs": [
    {
     "name": "stdout",
     "output_type": "stream",
     "text": [
      "0     409.1\n",
      "1     479.0\n",
      "2     340.0\n",
      "3     282.4\n",
      "4     406.0\n",
      "5     300.0\n",
      "6     374.0\n",
      "7     253.3\n",
      "8     195.1\n",
      "9     269.0\n",
      "10    329.3\n",
      "11    250.7\n",
      "12    250.7\n",
      "13    345.3\n",
      "14    379.3\n",
      "15    275.0\n",
      "16    215.2\n",
      "17    300.0\n",
      "18    300.0\n",
      "19    323.0\n",
      "20    243.0\n",
      "21    364.2\n",
      "22    282.0\n",
      "23    300.0\n",
      "24    246.0\n",
      "25    334.5\n",
      "26    250.0\n",
      "27    241.0\n",
      "28    300.0\n",
      "29    280.0\n",
      "30    380.3\n",
      "31    243.0\n",
      "Name: Calories, dtype: float64\n"
     ]
    }
   ],
   "source": [
    "df = pd.read_csv('data.csv')\n",
    "\n",
    "x = df[\"Calories\"].mode()[0]\n",
    "\n",
    "df.fillna({\"Calories\":x}, inplace = True) \n",
    "\n",
    "print(df[\"Calories\"])"
   ]
  },
  {
   "cell_type": "code",
   "execution_count": null,
   "id": "be6db352-7481-427c-aed4-bae245462f3d",
   "metadata": {},
   "outputs": [],
   "source": []
  }
 ],
 "metadata": {
  "kernelspec": {
   "display_name": "Python 3 (ipykernel)",
   "language": "python",
   "name": "python3"
  },
  "language_info": {
   "codemirror_mode": {
    "name": "ipython",
    "version": 3
   },
   "file_extension": ".py",
   "mimetype": "text/x-python",
   "name": "python",
   "nbconvert_exporter": "python",
   "pygments_lexer": "ipython3",
   "version": "3.10.12"
  }
 },
 "nbformat": 4,
 "nbformat_minor": 5
}
