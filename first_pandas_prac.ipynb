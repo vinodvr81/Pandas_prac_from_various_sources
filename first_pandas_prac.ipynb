{
 "cells": [
  {
   "cell_type": "code",
   "execution_count": 1,
   "id": "b01472a1-3f71-47fa-81d1-d08c9133e164",
   "metadata": {},
   "outputs": [],
   "source": [
    "x = 4 + 5"
   ]
  },
  {
   "cell_type": "code",
   "execution_count": 2,
   "id": "e9aa0b55-ba32-4dda-b916-6ff4d8b09525",
   "metadata": {},
   "outputs": [
    {
     "data": {
      "text/plain": [
       "9"
      ]
     },
     "execution_count": 2,
     "metadata": {},
     "output_type": "execute_result"
    }
   ],
   "source": [
    "x"
   ]
  },
  {
   "cell_type": "code",
   "execution_count": 3,
   "id": "9ffb7cd5-a005-4792-a8e2-d1cd9e401bf3",
   "metadata": {},
   "outputs": [
    {
     "data": {
      "text/plain": [
       "1.25"
      ]
     },
     "execution_count": 3,
     "metadata": {},
     "output_type": "execute_result"
    }
   ],
   "source": [
    "a = 5/4\n",
    "a"
   ]
  },
  {
   "cell_type": "code",
   "execution_count": 4,
   "id": "9ed69541-b261-46e3-86dd-fdf16001714e",
   "metadata": {},
   "outputs": [
    {
     "data": {
      "text/plain": [
       "1"
      ]
     },
     "execution_count": 4,
     "metadata": {},
     "output_type": "execute_result"
    }
   ],
   "source": [
    "b = 5%4\n",
    "b"
   ]
  },
  {
   "cell_type": "code",
   "execution_count": 5,
   "id": "d0eb7efe-085b-438a-aa15-adf8d3eff67c",
   "metadata": {},
   "outputs": [],
   "source": [
    "c = 7//8"
   ]
  },
  {
   "cell_type": "code",
   "execution_count": 6,
   "id": "728b7a29-16dc-40b8-becd-a187db46e207",
   "metadata": {},
   "outputs": [
    {
     "data": {
      "text/plain": [
       "0"
      ]
     },
     "execution_count": 6,
     "metadata": {},
     "output_type": "execute_result"
    }
   ],
   "source": [
    "c"
   ]
  },
  {
   "cell_type": "code",
   "execution_count": 7,
   "id": "11a54ef8-d95f-46a1-8f7a-0b462cb659e5",
   "metadata": {},
   "outputs": [
    {
     "data": {
      "text/plain": [
       "1"
      ]
     },
     "execution_count": 7,
     "metadata": {},
     "output_type": "execute_result"
    }
   ],
   "source": [
    "c = 8//7\n",
    "c"
   ]
  },
  {
   "cell_type": "code",
   "execution_count": 8,
   "id": "d8858c95-f90b-4170-a16c-265ee33985b4",
   "metadata": {},
   "outputs": [
    {
     "name": "stdout",
     "output_type": "stream",
     "text": [
      "0\n",
      "1\n",
      "2\n",
      "3\n",
      "4\n"
     ]
    }
   ],
   "source": [
    "for i in range(5):\n",
    "    print(i)"
   ]
  },
  {
   "cell_type": "code",
   "execution_count": 9,
   "id": "15bac68f-a432-41ea-870a-932a78a1bf9a",
   "metadata": {},
   "outputs": [
    {
     "name": "stdout",
     "output_type": "stream",
     "text": [
      "1\n",
      "2\n",
      "3\n",
      "4\n"
     ]
    }
   ],
   "source": [
    "for i in range(1,5):\n",
    "    print(i)"
   ]
  },
  {
   "cell_type": "code",
   "execution_count": 10,
   "id": "e64e9c53-5c72-47d8-bdbd-7cc327a941bf",
   "metadata": {},
   "outputs": [
    {
     "name": "stdout",
     "output_type": "stream",
     "text": [
      "5\n",
      "3\n",
      "1\n"
     ]
    }
   ],
   "source": [
    "for i in range(5,0,-2):\n",
    "    print(i)"
   ]
  },
  {
   "cell_type": "code",
   "execution_count": 11,
   "id": "ae2effa9-edc3-4bcd-a846-133da81ba09d",
   "metadata": {},
   "outputs": [
    {
     "name": "stdout",
     "output_type": "stream",
     "text": [
      "OK\n",
      "Not allowed\n",
      "Something is wrong\n",
      "Something is wrong\n"
     ]
    }
   ],
   "source": [
    "def http_error(status):\n",
    "    match status:\n",
    "        case 200:\n",
    "            return 'OK'\n",
    "        case 400:\n",
    "            return 'Bad request'\n",
    "        case 401 | 403 | 404:\n",
    "            return 'Not allowed'\n",
    "        case _:\n",
    "            return 'Something is wrong'\n",
    "\n",
    "\n",
    "print(http_error(200))\n",
    "print(http_error(404))\n",
    "print(http_error(12345))\n",
    "print(http_error('abc'))"
   ]
  },
  {
   "cell_type": "code",
   "execution_count": 12,
   "id": "21f07247-2ccd-4449-9b3c-cc67f2bd9eda",
   "metadata": {},
   "outputs": [
    {
     "name": "stdout",
     "output_type": "stream",
     "text": [
      "{1, 2, 3, 4, 5, 6, 7, 8}\n",
      "{3, 4, 5, 6}\n",
      "{1, 2}\n",
      "{1, 2, 7, 8}\n"
     ]
    }
   ],
   "source": [
    "set_a = {1,2,3,4,5,6}\n",
    "set_b = {3,4,5,6,7,8}\n",
    "print(set_a|set_b)\n",
    "print(set_a & set_b)\n",
    "print(set_a - set_b)\n",
    "print(set_a ^ set_b)"
   ]
  },
  {
   "cell_type": "code",
   "execution_count": 16,
   "id": "4f3897ee-beaf-44cf-b1a0-896d92caf9d8",
   "metadata": {},
   "outputs": [
    {
     "name": "stdout",
     "output_type": "stream",
     "text": [
      "li1 ID:  138245966898432 Value:  [1, 2, [3, 5], 4]\n",
      "li2 ID:  138245966903680 Value:  [1, 2, [3, 5], 4]\n",
      "li4 ID:  138245966906112 Value:  [1, 2, [3, 5], 4]\n",
      "li3 ID:  138245966846656 Value:  [1, 2, [3, 5], 4]\n"
     ]
    }
   ],
   "source": [
    "import copy\n",
    "li1 = [1, 2, [3, 5], 4]\n",
    "print(\"li1 ID: \", id(li1), \"Value: \", li1)\n",
    "li2 = copy.copy(li1)\n",
    "print(\"li2 ID: \", id(li2), \"Value: \", li2)\n",
    "li4 = copy.copy(li1)\n",
    "print(\"li4 ID: \", id(li4), \"Value: \", li4)\n",
    "li3 = copy.deepcopy(li1)\n",
    "print(\"li3 ID: \", id(li3), \"Value: \", li3)"
   ]
  },
  {
   "cell_type": "code",
   "execution_count": 20,
   "id": "c20c80cd-b981-42ec-9a88-9ecd2688a8d0",
   "metadata": {},
   "outputs": [
    {
     "name": "stdout",
     "output_type": "stream",
     "text": [
      "<function <listcomp>.<lambda> at 0x7dbbe5b730a0>\n",
      "0\n",
      "<function <listcomp>.<lambda> at 0x7dbbe5b73b50>\n",
      "2\n",
      "<function <listcomp>.<lambda> at 0x7dbbe510c1f0>\n",
      "4\n",
      "<function <listcomp>.<lambda> at 0x7dbbe510c3a0>\n",
      "6\n",
      "<function <listcomp>.<lambda> at 0x7dbbe510c700>\n",
      "8\n"
     ]
    }
   ],
   "source": [
    "lst = [lambda i=i:i*2 for i in range(5)]\n",
    "for i in lst:\n",
    "    print(i)\n",
    "    print(i())"
   ]
  },
  {
   "cell_type": "code",
   "execution_count": null,
   "id": "20bfd431-7f08-480e-8c8e-b167eee35b98",
   "metadata": {},
   "outputs": [],
   "source": []
  },
  {
   "cell_type": "code",
   "execution_count": 25,
   "id": "182221da-b461-4ec7-89ee-62bdf75d6338",
   "metadata": {},
   "outputs": [
    {
     "name": "stdout",
     "output_type": "stream",
     "text": [
      "<function <listcomp>.<lambda> at 0x7dbbe51f70a0>\n",
      "8\n",
      "<function <listcomp>.<lambda> at 0x7dbbe51f5d80>\n",
      "8\n",
      "<function <listcomp>.<lambda> at 0x7dbbe51f72e0>\n",
      "8\n",
      "<function <listcomp>.<lambda> at 0x7dbbe51f5e10>\n",
      "8\n",
      "<function <listcomp>.<lambda> at 0x7dbbe51f55a0>\n",
      "8\n"
     ]
    }
   ],
   "source": [
    "lst = [lambda i:i*2 for i in range(5)]\n",
    "for i in lst:\n",
    "    print(i)\n",
    "    print(i(4))\n",
    "    "
   ]
  },
  {
   "cell_type": "code",
   "execution_count": 26,
   "id": "44afa35b-7a7c-40b2-a62b-a72eaae7fb00",
   "metadata": {},
   "outputs": [
    {
     "data": {
      "text/plain": [
       "array([[0, 1, 2],\n",
       "       [3, 4, 5],\n",
       "       [6, 7, 8]])"
      ]
     },
     "execution_count": 26,
     "metadata": {},
     "output_type": "execute_result"
    }
   ],
   "source": [
    "import numpy as np\n",
    "x = [[0,1,2],[3,4,5],[6,7,8]]\n",
    "arr = np.array(x)\n",
    "arr"
   ]
  },
  {
   "cell_type": "code",
   "execution_count": 28,
   "id": "fd1a7568-88a8-474a-8745-2c66f680bf4b",
   "metadata": {},
   "outputs": [
    {
     "name": "stdout",
     "output_type": "stream",
     "text": [
      "2\n",
      "(3, 3)\n",
      "9\n",
      "int64\n",
      "8\n"
     ]
    }
   ],
   "source": [
    "print(arr.ndim)\n",
    "print(arr.shape)\n",
    "print(arr.size)\n",
    "print(arr.dtype)\n",
    "print(arr.itemsize)"
   ]
  },
  {
   "cell_type": "code",
   "execution_count": 29,
   "id": "8ca91e46-75bd-44af-8336-b6b1e0af36be",
   "metadata": {},
   "outputs": [
    {
     "name": "stdout",
     "output_type": "stream",
     "text": [
      "[ 0  1  2  3  4  5  6  7  8  9 10 11 12 13 14 15 16 17 18 19]\n"
     ]
    }
   ],
   "source": [
    "arr1 = np.arange(0,20)\n",
    "print(arr1)"
   ]
  },
  {
   "cell_type": "code",
   "execution_count": 30,
   "id": "f244d261-4cac-44a2-8c24-6c69853119e8",
   "metadata": {},
   "outputs": [
    {
     "name": "stdout",
     "output_type": "stream",
     "text": [
      "[ 0.  5. 10. 15. 20.]\n"
     ]
    }
   ],
   "source": [
    "arr2 = np.linspace(0,20,5)\n",
    "print(arr2)"
   ]
  },
  {
   "cell_type": "code",
   "execution_count": null,
   "id": "da2a7f10-742a-4286-8125-2e04f32525db",
   "metadata": {},
   "outputs": [],
   "source": []
  }
 ],
 "metadata": {
  "kernelspec": {
   "display_name": "Python 3 (ipykernel)",
   "language": "python",
   "name": "python3"
  },
  "language_info": {
   "codemirror_mode": {
    "name": "ipython",
    "version": 3
   },
   "file_extension": ".py",
   "mimetype": "text/x-python",
   "name": "python",
   "nbconvert_exporter": "python",
   "pygments_lexer": "ipython3",
   "version": "3.10.12"
  }
 },
 "nbformat": 4,
 "nbformat_minor": 5
}
