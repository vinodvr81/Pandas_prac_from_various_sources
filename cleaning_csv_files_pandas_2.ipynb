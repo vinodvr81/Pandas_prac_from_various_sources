{
 "cells": [
  {
   "cell_type": "code",
   "execution_count": 1,
   "id": "02cb344c-c729-44d2-88db-99a576391b49",
   "metadata": {},
   "outputs": [
    {
     "name": "stdout",
     "output_type": "stream",
     "text": [
      "Empty DataFrame\n",
      "Columns: [Duration, Date, Pulse, Maxpulse, Calories]\n",
      "Index: []\n"
     ]
    }
   ],
   "source": [
    "import pandas as pd\n",
    "df = pd.read_csv('data.csv')\n",
    "print(df[85:95])"
   ]
  },
  {
   "cell_type": "code",
   "execution_count": 10,
   "id": "6d8039dc-656d-4be2-9dbf-3439d41658ff",
   "metadata": {},
   "outputs": [
    {
     "name": "stdout",
     "output_type": "stream",
     "text": [
      "17    300.0\n",
      "18      NaN\n",
      "19    323.0\n",
      "20    243.0\n",
      "21    364.2\n",
      "22    282.0\n",
      "23    300.0\n",
      "24    246.0\n",
      "25    334.5\n",
      "26    250.0\n",
      "27    241.0\n",
      "28      NaN\n",
      "29    280.0\n",
      "Name: Calories, dtype: float64\n"
     ]
    }
   ],
   "source": [
    "print(df[\"Calories\"][17:30])"
   ]
  },
  {
   "cell_type": "code",
   "execution_count": 17,
   "id": "9777d8e0-5b99-4357-8b04-50477a3a9b82",
   "metadata": {},
   "outputs": [
    {
     "name": "stdout",
     "output_type": "stream",
     "text": [
      "17    300.0\n",
      "18    130.0\n",
      "19    323.0\n",
      "20    243.0\n",
      "21    364.2\n",
      "22    282.0\n",
      "23    300.0\n",
      "24    246.0\n",
      "25    334.5\n",
      "26    250.0\n",
      "27    241.0\n",
      "28    130.0\n",
      "29    280.0\n",
      "Name: Calories, dtype: float64\n"
     ]
    },
    {
     "name": "stderr",
     "output_type": "stream",
     "text": [
      "/tmp/ipykernel_10342/1156499872.py:1: FutureWarning: A value is trying to be set on a copy of a DataFrame or Series through chained assignment using an inplace method.\n",
      "The behavior will change in pandas 3.0. This inplace method will never work because the intermediate object on which we are setting values always behaves as a copy.\n",
      "\n",
      "For example, when doing 'df[col].method(value, inplace=True)', try using 'df.method({col: value}, inplace=True)' or df[col] = df[col].method(value) instead, to perform the operation inplace on the original object.\n",
      "\n",
      "\n",
      "  df[\"Calories\"].fillna(130, inplace = True)\n"
     ]
    }
   ],
   "source": [
    "df[\"Calories\"].fillna(130, inplace = True)\n",
    "print(df[\"Calories\"][17:30])"
   ]
  },
  {
   "cell_type": "code",
   "execution_count": 19,
   "id": "9df3b03c-570d-4e53-a616-ede20647d07e",
   "metadata": {},
   "outputs": [
    {
     "name": "stdout",
     "output_type": "stream",
     "text": [
      "17    300.0\n",
      "18    143.0\n",
      "19    323.0\n",
      "20    243.0\n",
      "21    364.2\n",
      "22    282.0\n",
      "23    300.0\n",
      "24    246.0\n",
      "25    334.5\n",
      "26    250.0\n",
      "27    241.0\n",
      "28    143.0\n",
      "29    280.0\n",
      "Name: Calories, dtype: float64\n"
     ]
    }
   ],
   "source": [
    "df = pd.read_csv('data.csv')\n",
    "df.fillna({\"Calories\": 143}, inplace=True)\n",
    "print(df[\"Calories\"][17:30])"
   ]
  },
  {
   "cell_type": "code",
   "execution_count": null,
   "id": "c2f4ac40-8172-4050-b16c-0501552c5fa8",
   "metadata": {},
   "outputs": [],
   "source": []
  }
 ],
 "metadata": {
  "kernelspec": {
   "display_name": "Python 3 (ipykernel)",
   "language": "python",
   "name": "python3"
  },
  "language_info": {
   "codemirror_mode": {
    "name": "ipython",
    "version": 3
   },
   "file_extension": ".py",
   "mimetype": "text/x-python",
   "name": "python",
   "nbconvert_exporter": "python",
   "pygments_lexer": "ipython3",
   "version": "3.10.12"
  }
 },
 "nbformat": 4,
 "nbformat_minor": 5
}
