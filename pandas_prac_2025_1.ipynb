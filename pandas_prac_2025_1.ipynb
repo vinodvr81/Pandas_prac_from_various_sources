{
 "cells": [
  {
   "cell_type": "code",
   "execution_count": 18,
   "id": "caeb34ac-74e7-4635-bd5f-e130c0586594",
   "metadata": {},
   "outputs": [
    {
     "name": "stdout",
     "output_type": "stream",
     "text": [
      "calories    420\n",
      "duration     50\n",
      "Name: 0, dtype: int64\n"
     ]
    }
   ],
   "source": [
    "import pandas as pd\n",
    "data = {\n",
    "  'calories': [420, 380, 390],\n",
    "  'duration': [50, 40, 45]\n",
    "}\n",
    "df = pd.DataFrame(data)\n",
    "print(df.loc[0])"
   ]
  },
  {
   "cell_type": "code",
   "execution_count": 19,
   "id": "f81ecdde-3287-4411-b111-d72025edfb5e",
   "metadata": {},
   "outputs": [
    {
     "name": "stdout",
     "output_type": "stream",
     "text": [
      "int64\n"
     ]
    }
   ],
   "source": [
    "print(df.loc[0].dtype)"
   ]
  },
  {
   "cell_type": "code",
   "execution_count": 20,
   "id": "402aa277-7297-4942-b2c7-ede38cf1c8be",
   "metadata": {},
   "outputs": [
    {
     "name": "stdout",
     "output_type": "stream",
     "text": [
      "   Duration  Pulse  Maxpulse  Calories\n",
      "0        60    110       130     409.1\n",
      "1        60    117       145     479.0\n",
      "2        60    103       135     340.0\n",
      "3        45    109       175     282.4\n",
      "4        45    117       148     406.0\n"
     ]
    }
   ],
   "source": [
    "import pandas as pd\n",
    "\n",
    "df = pd.read_json('data.json')\n",
    "\n",
    "print(df.head())"
   ]
  },
  {
   "cell_type": "code",
   "execution_count": 21,
   "id": "46e20a33-68e3-4dbf-ba18-751d8d4172c9",
   "metadata": {},
   "outputs": [
    {
     "name": "stdout",
     "output_type": "stream",
     "text": [
      "     Duration  Pulse  Maxpulse  Calories\n",
      "164        60    105       140     290.8\n",
      "165        60    110       145     300.4\n",
      "166        60    115       145     310.2\n",
      "167        75    120       150     320.4\n",
      "168        75    125       150     330.4\n"
     ]
    }
   ],
   "source": [
    "print(df.tail())"
   ]
  },
  {
   "cell_type": "code",
   "execution_count": 22,
   "id": "330464c6-9648-4ceb-9c56-9778d8336825",
   "metadata": {},
   "outputs": [
    {
     "name": "stdout",
     "output_type": "stream",
     "text": [
      "Duration     54.0\n",
      "Pulse       111.2\n",
      "Maxpulse    146.6\n",
      "Calories    383.3\n",
      "dtype: float64\n"
     ]
    }
   ],
   "source": [
    "print(df.head().mean())"
   ]
  },
  {
   "cell_type": "code",
   "execution_count": 23,
   "id": "ac2f48b7-f46f-492a-805e-268cf7ac9fc5",
   "metadata": {},
   "outputs": [
    {
     "name": "stdout",
     "output_type": "stream",
     "text": [
      "Duration     66.00\n",
      "Pulse       115.00\n",
      "Maxpulse    146.00\n",
      "Calories    310.44\n",
      "dtype: float64\n"
     ]
    }
   ],
   "source": [
    "print(df.tail().mean())"
   ]
  },
  {
   "cell_type": "code",
   "execution_count": 24,
   "id": "2a59aefc-70af-478b-b651-12da56fd8d43",
   "metadata": {},
   "outputs": [],
   "source": [
    "from statistics import mode\n"
   ]
  },
  {
   "cell_type": "code",
   "execution_count": 25,
   "id": "78ac15b3-5a36-47af-9cf1-6eeb285f2264",
   "metadata": {},
   "outputs": [
    {
     "name": "stdout",
     "output_type": "stream",
     "text": [
      "   Duration  Pulse  Maxpulse  Calories\n",
      "0      60.0  117.0       130     282.4\n",
      "1       NaN    NaN       135     340.0\n",
      "2       NaN    NaN       145     406.0\n",
      "3       NaN    NaN       148     409.1\n",
      "4       NaN    NaN       175     479.0\n"
     ]
    }
   ],
   "source": [
    "print(df.head().mode())"
   ]
  },
  {
   "cell_type": "code",
   "execution_count": 26,
   "id": "70b93217-785a-471b-8295-6d02566a1246",
   "metadata": {},
   "outputs": [
    {
     "name": "stdout",
     "output_type": "stream",
     "text": [
      "   Duration  Pulse  Maxpulse  Calories\n",
      "0      60.0    105     145.0     290.8\n",
      "1       NaN    110     150.0     300.4\n",
      "2       NaN    115       NaN     310.2\n",
      "3       NaN    120       NaN     320.4\n",
      "4       NaN    125       NaN     330.4\n"
     ]
    }
   ],
   "source": [
    "print(df.tail().mode())"
   ]
  },
  {
   "cell_type": "code",
   "execution_count": 27,
   "id": "451417f6-8a21-4cf4-a9a6-0a67c219080e",
   "metadata": {},
   "outputs": [
    {
     "data": {
      "text/plain": [
       "60.0"
      ]
     },
     "execution_count": 27,
     "metadata": {},
     "output_type": "execute_result"
    }
   ],
   "source": [
    "mode(df.loc[0])"
   ]
  },
  {
   "cell_type": "code",
   "execution_count": 28,
   "id": "bd98868d-b46a-4d75-be20-6a08f8067e2c",
   "metadata": {},
   "outputs": [
    {
     "data": {
      "text/plain": [
       "60.0"
      ]
     },
     "execution_count": 28,
     "metadata": {},
     "output_type": "execute_result"
    }
   ],
   "source": [
    "mode(df.iloc[0])"
   ]
  },
  {
   "cell_type": "code",
   "execution_count": 29,
   "id": "bb210ed5-be60-43b3-8aa0-141b1011682e",
   "metadata": {},
   "outputs": [
    {
     "name": "stdout",
     "output_type": "stream",
     "text": [
      "<class 'pandas.core.frame.DataFrame'>\n",
      "Index: 169 entries, 0 to 168\n",
      "Data columns (total 4 columns):\n",
      " #   Column    Non-Null Count  Dtype  \n",
      "---  ------    --------------  -----  \n",
      " 0   Duration  169 non-null    int64  \n",
      " 1   Pulse     169 non-null    int64  \n",
      " 2   Maxpulse  169 non-null    int64  \n",
      " 3   Calories  164 non-null    float64\n",
      "dtypes: float64(1), int64(3)\n",
      "memory usage: 10.7 KB\n",
      "None\n"
     ]
    }
   ],
   "source": [
    "print(df.info()) "
   ]
  },
  {
   "cell_type": "code",
   "execution_count": 30,
   "id": "58bcac1a-1abc-4a0d-81f1-cf7d25b42b5d",
   "metadata": {},
   "outputs": [
    {
     "data": {
      "text/plain": [
       "2"
      ]
     },
     "execution_count": 30,
     "metadata": {},
     "output_type": "execute_result"
    }
   ],
   "source": [
    "df.ndim"
   ]
  },
  {
   "cell_type": "code",
   "execution_count": 35,
   "id": "44232eae-f941-4730-8bff-d280b13a9c9c",
   "metadata": {},
   "outputs": [
    {
     "name": "stdout",
     "output_type": "stream",
     "text": [
      "   Duration  Pulse  Maxpulse  Calories\n",
      "0        60    110       130     409.1\n",
      "1        60    117       145     479.0\n",
      "2        60    103       135     340.0\n",
      "3        45    109       175     282.4\n",
      "4        45    117       148     406.0\n"
     ]
    }
   ],
   "source": [
    "import pandas as pd\n",
    "\n",
    "df = pd.read_json('data.json')\n",
    "\n",
    "print(df.head())"
   ]
  },
  {
   "cell_type": "code",
   "execution_count": null,
   "id": "0ca389da-3639-44cd-b31f-0eff3c2397b4",
   "metadata": {},
   "outputs": [],
   "source": []
  }
 ],
 "metadata": {
  "kernelspec": {
   "display_name": "Python 3 (ipykernel)",
   "language": "python",
   "name": "python3"
  },
  "language_info": {
   "codemirror_mode": {
    "name": "ipython",
    "version": 3
   },
   "file_extension": ".py",
   "mimetype": "text/x-python",
   "name": "python",
   "nbconvert_exporter": "python",
   "pygments_lexer": "ipython3",
   "version": "3.10.12"
  }
 },
 "nbformat": 4,
 "nbformat_minor": 5
}
