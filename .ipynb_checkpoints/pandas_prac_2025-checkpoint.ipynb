{
 "cells": [
  {
   "cell_type": "code",
   "execution_count": 1,
   "id": "9db630b6-c7c4-493f-8e96-4924f0b99667",
   "metadata": {},
   "outputs": [
    {
     "name": "stdout",
     "output_type": "stream",
     "text": [
      "            cars  passings\n",
      "0           Tata         1\n",
      "1  Mercedez Benz        10\n",
      "2        Maruthi         2\n",
      "3       Mahindra         4\n"
     ]
    }
   ],
   "source": [
    "import pandas as pd\n",
    "\n",
    "mydataset = {\n",
    "  'cars': (\"Tata\", \"Mercedez Benz\", \"Maruthi\", \"Mahindra\"),\n",
    "  'passings': (1, 10, 2, 4)\n",
    "}\n",
    "\n",
    "myvar = pd.DataFrame(mydataset)\n",
    "\n",
    "print(myvar) "
   ]
  },
  {
   "cell_type": "code",
   "execution_count": 3,
   "id": "fbb08bff-6b80-421b-9263-f9ee40aeff27",
   "metadata": {},
   "outputs": [
    {
     "name": "stdout",
     "output_type": "stream",
     "text": [
      "             cars\n",
      "1            Tata\n",
      "10  Mercedez Benz\n",
      "2         Maruthi\n",
      "4        Mahindra\n"
     ]
    }
   ],
   "source": [
    "mydataset = {\n",
    "  'cars': {1:\"Tata\", 10: \"Mercedez Benz\", 2:\"Maruthi\", 4:\"Mahindra\"},\n",
    "}\n",
    "\n",
    "myvar = pd.DataFrame(mydataset)\n",
    "\n",
    "print(myvar) "
   ]
  },
  {
   "cell_type": "code",
   "execution_count": 38,
   "id": "a18fd87c-cdc6-4554-bb97-1606bcfa9a1c",
   "metadata": {},
   "outputs": [
    {
     "name": "stdout",
     "output_type": "stream",
     "text": [
      "            cars  passings\n",
      "0           Tata         1\n",
      "1  Mercedez Benz        10\n",
      "2        Maruthi         2\n",
      "3       Mahindra         4\n"
     ]
    }
   ],
   "source": [
    "mydataset = {\n",
    "  'cars': [\"Tata\", \"Mercedez Benz\", \"Maruthi\", \"Mahindra\"],\n",
    "  'passings': [1, 10, 2, 4]\n",
    "}\n",
    "\n",
    "myvar = pd.DataFrame(mydataset)\n",
    "\n",
    "print(myvar) "
   ]
  },
  {
   "cell_type": "code",
   "execution_count": 8,
   "id": "f7955a18-d1df-4346-b300-0d3285eaf709",
   "metadata": {},
   "outputs": [
    {
     "name": "stdout",
     "output_type": "stream",
     "text": [
      "               0\n",
      "0           Tata\n",
      "1  Mercedez Benz\n",
      "2        Maruthi\n",
      "3       Mahindra\n"
     ]
    }
   ],
   "source": [
    "cars = (\"Tata\", \"Mercedez Benz\", \"Maruthi\", \"Mahindra\")\n",
    "def x(cars: tuple):\n",
    "    for i in cars:\n",
    "        yield i\n",
    "\n",
    "mydataset = map(lambda x:x, cars)\n",
    "\n",
    "myvar = pd.DataFrame(mydataset)\n",
    "\n",
    "print(myvar) "
   ]
  },
  {
   "cell_type": "code",
   "execution_count": 40,
   "id": "c694e888-2c10-4a1a-9583-5ab45771521a",
   "metadata": {},
   "outputs": [
    {
     "name": "stdout",
     "output_type": "stream",
     "text": [
      "0             Tata\n",
      "1    Mercedez Benz\n",
      "2          Maruthi\n",
      "3         Mahindra\n",
      "Name: 0, dtype: object\n"
     ]
    }
   ],
   "source": [
    "genvar = pd.DataFrame(cars)\n",
    "print(genvar[0])"
   ]
  },
  {
   "cell_type": "code",
   "execution_count": 41,
   "id": "76bcd17b-639c-47b6-a20d-92525fa53665",
   "metadata": {},
   "outputs": [
    {
     "name": "stdout",
     "output_type": "stream",
     "text": [
      "Mercedez Benz\n"
     ]
    }
   ],
   "source": [
    "print(genvar[0][1])"
   ]
  },
  {
   "cell_type": "code",
   "execution_count": 42,
   "id": "ee3db535-19ff-49a9-bb9f-52b33636ed18",
   "metadata": {},
   "outputs": [
    {
     "name": "stdout",
     "output_type": "stream",
     "text": [
      "Tata\n"
     ]
    }
   ],
   "source": [
    "print(genvar[0][0])"
   ]
  },
  {
   "cell_type": "code",
   "execution_count": 55,
   "id": "2944ba63-27c5-4a91-a39a-e3c4b55fc052",
   "metadata": {},
   "outputs": [
    {
     "name": "stdout",
     "output_type": "stream",
     "text": [
      "            Cars\n",
      "0           Tata\n",
      "1  Mercedez Benz\n",
      "2        Maruthi\n",
      "3       Mahindra\n"
     ]
    }
   ],
   "source": [
    "genvar = pd.DataFrame({'Cars': cars})\n",
    "print(genvar)"
   ]
  },
  {
   "cell_type": "code",
   "execution_count": 54,
   "id": "411e12ac-6fa3-4c1f-b1e2-cd77497e5f49",
   "metadata": {},
   "outputs": [
    {
     "name": "stdout",
     "output_type": "stream",
     "text": [
      "Series([], Name: Cars, dtype: float64)\n"
     ]
    }
   ],
   "source": [
    "print(genvar['Cars'])"
   ]
  },
  {
   "cell_type": "code",
   "execution_count": 58,
   "id": "d1a67ec4-9c38-4717-8ce6-11dca931cb13",
   "metadata": {},
   "outputs": [
    {
     "name": "stdout",
     "output_type": "stream",
     "text": [
      "            Cars\n",
      "0           Tata\n",
      "1  Mercedez Benz\n",
      "2        Maruthi\n",
      "3       Mahindra\n"
     ]
    }
   ],
   "source": [
    "print(genvar)"
   ]
  },
  {
   "cell_type": "code",
   "execution_count": null,
   "id": "4822c517-c0cb-430e-b09e-19335ea6b6be",
   "metadata": {},
   "outputs": [],
   "source": []
  }
 ],
 "metadata": {
  "kernelspec": {
   "display_name": "Python 3 (ipykernel)",
   "language": "python",
   "name": "python3"
  },
  "language_info": {
   "codemirror_mode": {
    "name": "ipython",
    "version": 3
   },
   "file_extension": ".py",
   "mimetype": "text/x-python",
   "name": "python",
   "nbconvert_exporter": "python",
   "pygments_lexer": "ipython3",
   "version": "3.10.12"
  }
 },
 "nbformat": 4,
 "nbformat_minor": 5
}
