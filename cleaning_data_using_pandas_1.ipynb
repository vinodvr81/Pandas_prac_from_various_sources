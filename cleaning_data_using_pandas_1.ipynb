{
 "cells": [
  {
   "cell_type": "code",
   "execution_count": 1,
   "id": "00d46990-2b39-4934-aa3d-c9bd7e3bfb32",
   "metadata": {},
   "outputs": [
    {
     "name": "stdout",
     "output_type": "stream",
     "text": [
      "   Duration  Pulse  Maxpulse  Calories\n",
      "0        60    110       130     409.1\n",
      "1        60    117       145     479.0\n",
      "2        60    103       135     340.0\n",
      "3        45    109       175     282.4\n",
      "4        45    117       148     406.0\n"
     ]
    }
   ],
   "source": [
    "import pandas as pd\n",
    "\n",
    "df = pd.read_json('data.json')\n",
    "\n",
    "print(df.head())"
   ]
  },
  {
   "cell_type": "code",
   "execution_count": 2,
   "id": "c8b4fd1a-cb3e-469f-867a-ee4bff7598c1",
   "metadata": {},
   "outputs": [
    {
     "data": {
      "text/plain": [
       "Duration      int64\n",
       "Pulse         int64\n",
       "Maxpulse      int64\n",
       "Calories    float64\n",
       "dtype: object"
      ]
     },
     "execution_count": 2,
     "metadata": {},
     "output_type": "execute_result"
    }
   ],
   "source": [
    "df.dtypes"
   ]
  },
  {
   "cell_type": "code",
   "execution_count": 4,
   "id": "383038f6-7aa2-41fd-802f-6f09c8b4e422",
   "metadata": {},
   "outputs": [
    {
     "name": "stdout",
     "output_type": "stream",
     "text": [
      "    Duration  Pulse  Maxpulse  Calories\n",
      "85        30    151       170     300.1\n",
      "86        45    102       136     234.0\n",
      "87       120    100       157    1000.1\n",
      "88        45    129       103     242.0\n",
      "89        20     83       107      50.3\n",
      "90       180    101       127     600.1\n",
      "91        45    107       137       NaN\n",
      "92        30     90       107     105.3\n",
      "93        15     80       100      50.5\n",
      "94        20    150       171     127.4\n"
     ]
    }
   ],
   "source": [
    "print(df[85:95])"
   ]
  },
  {
   "cell_type": "code",
   "execution_count": 5,
   "id": "96f20917-5082-41cd-b368-f657c422fa18",
   "metadata": {},
   "outputs": [
    {
     "name": "stdout",
     "output_type": "stream",
     "text": [
      "    Duration  Pulse  Maxpulse  Calories\n",
      "87       120    100       157    1000.1\n",
      "88        45    129       103     242.0\n",
      "89        20     83       107      50.3\n",
      "90       180    101       127     600.1\n",
      "92        30     90       107     105.3\n",
      "93        15     80       100      50.5\n",
      "94        20    150       171     127.4\n",
      "95        20    151       168     229.4\n",
      "96        30     95       128     128.2\n",
      "97        25    152       168     244.2\n"
     ]
    }
   ],
   "source": [
    "new_df = df.dropna()\n",
    "print(new_df[85:95])"
   ]
  },
  {
   "cell_type": "code",
   "execution_count": 8,
   "id": "b22417a2-7146-4771-8a76-83905303e38e",
   "metadata": {},
   "outputs": [
    {
     "name": "stdout",
     "output_type": "stream",
     "text": [
      "    Duration  Pulse  Maxpulse  Calories\n",
      "87       120    100       157    1000.1\n",
      "88        45    129       103     242.0\n",
      "89        20     83       107      50.3\n",
      "90       180    101       127     600.1\n",
      "92        30     90       107     105.3\n",
      "93        15     80       100      50.5\n",
      "94        20    150       171     127.4\n",
      "95        20    151       168     229.4\n",
      "96        30     95       128     128.2\n",
      "97        25    152       168     244.2\n"
     ]
    }
   ],
   "source": [
    "df_drops_na = pd.read_json('data.json')\n",
    "df_drops_na.dropna(inplace = True)\n",
    "print(df_drops_na[85:95]) "
   ]
  },
  {
   "cell_type": "code",
   "execution_count": 12,
   "id": "77c8e2a8-1514-464d-8c0a-c142d287ca6a",
   "metadata": {},
   "outputs": [
    {
     "name": "stdout",
     "output_type": "stream",
     "text": [
      "    Duration  Pulse  Maxpulse  Calories\n",
      "85        30    151       170     300.1\n",
      "86        45    102       136     234.0\n",
      "87       120    100       157    1000.1\n",
      "88        45    129       103     242.0\n",
      "89        20     83       107      50.3\n",
      "90       180    101       127     600.1\n",
      "91        45    107       137     130.0\n",
      "92        30     90       107     105.3\n",
      "93        15     80       100      50.5\n",
      "94        20    150       171     127.4\n"
     ]
    }
   ],
   "source": [
    "df_fill_na = pd.read_json('data.json')\n",
    "\n",
    "df_fill_na.fillna(130, inplace = True) #91 row changed\n",
    "\n",
    "print(df_fill_na[85:95]) "
   ]
  },
  {
   "cell_type": "code",
   "execution_count": null,
   "id": "f4d19a95-302a-43c4-ab00-bea5f6459e61",
   "metadata": {},
   "outputs": [],
   "source": []
  }
 ],
 "metadata": {
  "kernelspec": {
   "display_name": "Python 3 (ipykernel)",
   "language": "python",
   "name": "python3"
  },
  "language_info": {
   "codemirror_mode": {
    "name": "ipython",
    "version": 3
   },
   "file_extension": ".py",
   "mimetype": "text/x-python",
   "name": "python",
   "nbconvert_exporter": "python",
   "pygments_lexer": "ipython3",
   "version": "3.10.12"
  }
 },
 "nbformat": 4,
 "nbformat_minor": 5
}
